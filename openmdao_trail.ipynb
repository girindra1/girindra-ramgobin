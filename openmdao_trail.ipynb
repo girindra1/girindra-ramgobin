{
  "nbformat": 4,
  "nbformat_minor": 0,
  "metadata": {
    "colab": {
      "provenance": [],
      "toc_visible": true,
      "authorship_tag": "ABX9TyO3NK2jcgAGjc5RMZv1km2w",
      "include_colab_link": true
    },
    "kernelspec": {
      "name": "python3",
      "display_name": "Python 3"
    },
    "language_info": {
      "name": "python"
    }
  },
  "cells": [
    {
      "cell_type": "markdown",
      "metadata": {
        "id": "view-in-github",
        "colab_type": "text"
      },
      "source": [
        "<a href=\"https://colab.research.google.com/github/girindra1/girindra-ramgobin/blob/main/openmdao_trail.ipynb\" target=\"_parent\"><img src=\"https://colab.research.google.com/assets/colab-badge.svg\" alt=\"Open In Colab\"/></a>"
      ]
    },
    {
      "cell_type": "code",
      "execution_count": null,
      "metadata": {
        "id": "DD9jc5v__uRl"
      },
      "outputs": [],
      "source": [
        "!pip install 'openmdao[all]'"
      ]
    },
    {
      "cell_type": "markdown",
      "source": [
        "The above just basically installs the software including all the packages in this session/ file. Now let's work on an example.\n"
      ],
      "metadata": {
        "id": "w7_gAJR8AXIW"
      }
    },
    {
      "cell_type": "code",
      "source": [
        "import openmdao.api as om\n",
        "\n",
        "# build the model\n",
        "prob = om.Problem()\n",
        "\n",
        "prob.model.add_subsystem('paraboloid', om.ExecComp('f = (x-3)**2 + x*y + (y+4)**2 - 3'))\n",
        "\n",
        "# setup the optimization\n",
        "prob.driver = om.ScipyOptimizeDriver()\n",
        "prob.driver.options['optimizer'] = 'SLSQP'\n",
        "\n",
        "prob.model.add_design_var('paraboloid.x', lower=-50, upper=50)\n",
        "prob.model.add_design_var('paraboloid.y', lower=-50, upper=50)\n",
        "prob.model.add_objective('paraboloid.f')\n",
        "\n",
        "prob.setup()\n",
        "\n",
        "# Set initial values.\n",
        "prob.set_val('paraboloid.x', 3.0)\n",
        "prob.set_val('paraboloid.y', -4.0)\n",
        "\n",
        "# run the optimization\n",
        "prob.run_driver();"
      ],
      "metadata": {
        "colab": {
          "base_uri": "https://localhost:8080/"
        },
        "id": "sz3Y44FPGm23",
        "outputId": "acff93e6-2f86-462e-ec84-a429b7ec555b"
      },
      "execution_count": null,
      "outputs": [
        {
          "output_type": "stream",
          "name": "stdout",
          "text": [
            "Optimization terminated successfully    (Exit mode 0)\n",
            "            Current function value: -27.33333333333333\n",
            "            Iterations: 5\n",
            "            Function evaluations: 6\n",
            "            Gradient evaluations: 5\n",
            "Optimization Complete\n",
            "-----------------------------------\n"
          ]
        }
      ]
    }
  ]
}